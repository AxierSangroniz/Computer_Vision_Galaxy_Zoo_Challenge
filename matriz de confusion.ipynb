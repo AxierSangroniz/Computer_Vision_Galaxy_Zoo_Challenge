{
 "cells": [
  {
   "cell_type": "code",
   "execution_count": null,
   "id": "ced33685-b2d8-403d-b7b3-6d78cf3340bf",
   "metadata": {},
   "outputs": [],
   "source": [
    "# Save trained model architecture and weights\n",
    "json_model = model.to_json()\n",
    "with open('model.json', 'w') as outfile:\n",
    "    outfile.write(json_model)\n",
    "\n",
    "model.save_weights(\"simple_model_weights.h5\")"
   ]
  },
  {
   "cell_type": "code",
   "execution_count": null,
   "id": "22c0f5b7-194a-4c22-98bd-3541365fede8",
   "metadata": {},
   "outputs": [],
   "source": [
    "kaggle_dir = os.path.join(drive, \"kaggle_data\")\n",
    "kaggle_train_dir = os.path.join(kaggle_dir, \"training\")\n",
    "kaggle_g_train_dir = os.path.join(kaggle_train_dir, \"glaucoma\")\n",
    "kaggle_n_train_dir = os.path.join(kaggle_train_dir, \"normal\")\n",
    "kaggle_val_dir = os.path.join(kaggle_dir, \"validation\")\n",
    "kaggle_g_val_dir = os.path.join(kaggle_val_dir, \"glaucoma\")\n",
    "kaggle_n_val_dir = os.path.join(kaggle_val_dir, \"normal\")"
   ]
  },
  {
   "cell_type": "code",
   "execution_count": null,
   "id": "8d022fb7-a5fb-4509-bae7-b574f51f9fa8",
   "metadata": {},
   "outputs": [],
   "source": [
    "X_g, y_g = get_testing_data([kaggle_g_train_dir, kaggle_g_val_dir], (178, 178))\n",
    "X_n, y_n = get_testing_data([kaggle_n_train_dir, kaggle_n_val_dir], (178, 178))\n",
    "\n",
    "y_g_pred = model.predict(X_g, batch_size=20)\n",
    "y_n_pred = model.predict(X_n, batch_size=20)"
   ]
  },
  {
   "cell_type": "code",
   "execution_count": null,
   "id": "b129129a-6715-446b-b13f-3ee66835feba",
   "metadata": {},
   "outputs": [],
   "source": [
    "print(y_g.shape)\n",
    "print(y_n.shape)"
   ]
  },
  {
   "cell_type": "code",
   "execution_count": null,
   "id": "2fe5ccce-316b-4779-bf79-fff72dcab72d",
   "metadata": {},
   "outputs": [],
   "source": [
    "# Change data type from float to int\n",
    "y_g_pred = y_g_pred.astype(int)\n",
    "y_n_pred = y_n_pred.astype(int)\n",
    "\n",
    "# Concatenate the dataframes for the accuracy analysis\n",
    "y_test = np.hstack([y_g, y_n])\n",
    "print(y_test.shape)\n",
    "y_test_pred = np.vstack([y_g_pred, y_n_pred])\n",
    "print(y_test_pred.shape)"
   ]
  },
  {
   "cell_type": "code",
   "execution_count": null,
   "id": "b712416a-9260-480c-a1f7-861fb35fae50",
   "metadata": {},
   "outputs": [],
   "source": [
    "# Visualize results\n",
    "draw_conf_matrix(y_test, y_test_pred)"
   ]
  },
  {
   "cell_type": "code",
   "execution_count": null,
   "id": "65f39911-4303-46b2-b37c-6397e94b3bbc",
   "metadata": {},
   "outputs": [],
   "source": []
  },
  {
   "cell_type": "code",
   "execution_count": null,
   "id": "76666035-1794-4f88-9f55-eacd9a8c7636",
   "metadata": {},
   "outputs": [],
   "source": []
  },
  {
   "cell_type": "code",
   "execution_count": null,
   "id": "1f9101c5-6876-472a-b110-03010f7a292c",
   "metadata": {},
   "outputs": [],
   "source": []
  },
  {
   "cell_type": "code",
   "execution_count": null,
   "id": "2e920885-91da-42af-87bc-06b52b3a74d6",
   "metadata": {},
   "outputs": [],
   "source": []
  },
  {
   "cell_type": "code",
   "execution_count": null,
   "id": "51c795e5-a97e-4d46-be5f-aa45cf9a6c9e",
   "metadata": {},
   "outputs": [],
   "source": []
  },
  {
   "cell_type": "code",
   "execution_count": null,
   "id": "b2bcbcd7-7c7d-4b3e-8386-65526179314e",
   "metadata": {},
   "outputs": [],
   "source": []
  },
  {
   "cell_type": "code",
   "execution_count": null,
   "id": "7675c17b-3df6-4bf8-b097-38c8623f4e84",
   "metadata": {},
   "outputs": [],
   "source": []
  },
  {
   "cell_type": "code",
   "execution_count": null,
   "id": "63bb5861-5115-462a-a998-c57fc328b539",
   "metadata": {},
   "outputs": [],
   "source": []
  },
  {
   "cell_type": "code",
   "execution_count": null,
   "id": "bf85ba2a-daff-4e39-82a9-8a6ecc226279",
   "metadata": {},
   "outputs": [],
   "source": []
  },
  {
   "cell_type": "code",
   "execution_count": null,
   "id": "db49cb21-787d-48dd-a68b-7e3a23046154",
   "metadata": {},
   "outputs": [],
   "source": []
  },
  {
   "cell_type": "code",
   "execution_count": null,
   "id": "73635cec-c8f0-4d45-a84e-24b6f9cf3431",
   "metadata": {},
   "outputs": [],
   "source": []
  }
 ],
 "metadata": {
  "kernelspec": {
   "display_name": "Python 3 (ipykernel)",
   "language": "python",
   "name": "python3"
  },
  "language_info": {
   "codemirror_mode": {
    "name": "ipython",
    "version": 3
   },
   "file_extension": ".py",
   "mimetype": "text/x-python",
   "name": "python",
   "nbconvert_exporter": "python",
   "pygments_lexer": "ipython3",
   "version": "3.11.5"
  }
 },
 "nbformat": 4,
 "nbformat_minor": 5
}
