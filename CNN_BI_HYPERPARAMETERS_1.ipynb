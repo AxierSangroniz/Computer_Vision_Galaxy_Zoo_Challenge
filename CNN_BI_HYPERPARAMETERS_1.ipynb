{
 "cells": [
  {
   "cell_type": "code",
   "execution_count": 177,
   "id": "f480f982-334e-4672-8b32-69237ac4568e",
   "metadata": {},
   "outputs": [],
   "source": [
    "import pandas as pd                                       # 😀 Importa la biblioteca pandas y la renombra como pd para su uso en el código.\n",
    "import matplotlib.pyplot as plt                           # 📊 Importa la biblioteca matplotlib.pyplot y la renombra como plt para su uso en el código.\n",
    "import numpy as np                                        # 🔢 Importa la biblioteca numpy y la renombra como np para su uso en el código.\n",
    "from keras.callbacks import ModelCheckpoint               # 💾 Importa la clase ModelCheckpoint desde keras.callbacks para guardar el modelo durante el entrenamiento.\n",
    "from keras.callbacks import Callback                      # 🔄 Importa la clase Callback desde keras.callbacks para personalizar el comportamiento durante el entrenamiento.\n",
    "import warnings                                           # ⚠️ Importa la biblioteca warnings para manejar advertencias.\n",
    "from sklearn import preprocessing                         # 🛠️ Importa el módulo preprocessing de la biblioteca sklearn para realizar preprocesamiento de datos.\n",
    "from sklearn.ensemble import RandomForestClassifier       # 🌳 Importa la clase RandomForestClassifier desde el módulo ensemble de la biblioteca sklearn para utilizar en el modelo.\n",
    "from sklearn.model_selection import GridSearchCV          # 📊 Importa la clase GridSearchCV desde el módulo model_selection de la biblioteca sklearn para realizar búsqueda de hiperparámetros.\n",
    "import os                                                 # 📁 Importa el módulo os para interactuar con el sistema operativo, como acceder a archivos y directorios.\n",
    "from tensorflow import keras                              # 🧠 Importa el módulo keras de la biblioteca tensorflow para construir modelos de redes neuronales.\n",
    "from tensorflow.keras import layers                       # 🧠 Importa el módulo layers desde keras de la biblioteca tensorflow para construir capas de red neuronal.\n",
    "import shutil                                             # 📂 Importa la biblioteca shutil para realizar operaciones de manejo de archivos y directorios.\n",
    "from tensorflow.keras.preprocessing.image import ImageDataGenerator, load_img, img_to_array  # 🖼️ Importa las clases ImageDataGenerator, load_img, y img_to_array desde preprocessing.image de la biblioteca tensorflow.keras para preprocesamiento de imágenes.\n",
    "from sklearn.utils import resample                        # 📊 Importa la función resample desde la biblioteca sklearn.utils para realizar remuestreo de datos.\n",
    "import random                                             # 🎲 Importa la biblioteca random para generar números aleatorios.\n",
    "import matplotlib.pyplot as plt\n",
    "from sklearn.metrics import confusion_matrix\n",
    "import seaborn as sns\n",
    "from sklearn.metrics import classification_report, confusion_matrix, ConfusionMatrixDisplay # metrics for model evaluation and visualization\n"
   ]
  },
  {
   "cell_type": "code",
   "execution_count": 2,
   "id": "07f965bd-533c-4313-ac05-83cb78f39e5e",
   "metadata": {},
   "outputs": [],
   "source": [
    "warnings.filterwarnings(\"ignore\")\n",
    "%matplotlib inline\n",
    "pd.set_option('display.max_columns', None)"
   ]
  },
  {
   "cell_type": "code",
   "execution_count": 3,
   "id": "7dd6305c-48d6-4465-ba1a-a3cae64f1488",
   "metadata": {},
   "outputs": [],
   "source": [
    "testimages_dir_path = \"C:/Users/AXIER/LABS/FINAL_PROYECT/IMAGES/images_test_rev1\"\n",
    "trainimages_dir_path = \"C:/Users/AXIER/LABS/FINAL_PROYECT/IMAGES/images_training_rev1\""
   ]
  },
  {
   "cell_type": "code",
   "execution_count": 4,
   "id": "9f3a5d68-5a74-45f5-ba8f-562c07eaf3a4",
   "metadata": {},
   "outputs": [],
   "source": [
    "train_no_structured_dir_path = \"C:/Users/AXIER/LABS/FINAL_PROYECT/IMAGES/TRAINNING_BI/no_structured\"\n",
    "train_structured_dir_path = \"C:/Users/AXIER/LABS/FINAL_PROYECT/IMAGES/TRAINNING_BI/structured\""
   ]
  },
  {
   "cell_type": "code",
   "execution_count": 5,
   "id": "8a61414f-1515-48ce-ac50-e65e82296b44",
   "metadata": {},
   "outputs": [],
   "source": [
    "test_no_structured_dir_path = \"C:/Users/AXIER/LABS/FINAL_PROYECT/IMAGES/VALIDATION_BI/no_structured\"\n",
    "test_structured_dir_path = \"C:/Users/AXIER/LABS/FINAL_PROYECT/IMAGES/VALIDATION_BI/structured\""
   ]
  },
  {
   "cell_type": "code",
   "execution_count": 6,
   "id": "c78c535e-45b9-4d61-ae86-77faca1ff073",
   "metadata": {},
   "outputs": [],
   "source": [
    "matriz_no_structured_dir_path = \"C:/Users/AXIER/LABS/FINAL_PROYECT/IMAGES/TESTING_BI/no_structured\"\n",
    "matriz_structured_dir_path = \"C:/Users/AXIER/LABS/FINAL_PROYECT/IMAGES/TESTING_BI/structured\""
   ]
  },
  {
   "cell_type": "code",
   "execution_count": 7,
   "id": "d6dd71d3-d713-4f4c-b963-5f0ed4673b22",
   "metadata": {},
   "outputs": [],
   "source": [
    "img_height = 256   \n",
    "img_width = 256   \n",
    "image_size = (img_height, img_width)\n",
    "batch_size = 128 # using the same as in the tutorial, training utilized in each iteration"
   ]
  },
  {
   "cell_type": "code",
   "execution_count": 8,
   "id": "0b437fba-b74e-4088-a9bf-6fa95d294a3a",
   "metadata": {},
   "outputs": [],
   "source": [
    "def make_model(input_shape): \n",
    "    inputs = keras.Input(shape=input_shape)\n",
    "\n",
    "    x = layers.Conv2D(8, (2, 2), activation='relu')(inputs)\n",
    "    x = layers.MaxPooling2D((2, 2))(x)\n",
    "    \n",
    "    x = layers.Conv2D(32, (5, 5), activation='relu')(x)\n",
    "    x = layers.MaxPooling2D((3, 3))(x)\n",
    "\n",
    "    x = layers.Conv2D(64, (4, 4), activation='relu')(x)\n",
    "    x = layers.MaxPooling2D((3, 3))(x)\n",
    "\n",
    "    x = layers.Conv2D(128, (3, 3), activation='relu')(x)\n",
    "    x = layers.MaxPooling2D((2, 2))(x)\n",
    "\n",
    "    x = layers.Conv2D(256, (2, 2), activation='relu')(x)\n",
    "    x = layers.MaxPooling2D((2, 2))(x)\n",
    "\n",
    "    x = layers.Flatten()(x)\n",
    "    x = layers.Dense(512, activation='relu')(x)\n",
    "    x = layers.Dense(256, activation='relu')(x)\n",
    "    x = layers.Dense(1, activation='sigmoid')(x)\n",
    "\n",
    "    return keras.Model(inputs, x)"
   ]
  },
  {
   "cell_type": "code",
   "execution_count": 9,
   "id": "7d7b29c8-f405-4dc0-a448-91f4e13b6bce",
   "metadata": {},
   "outputs": [],
   "source": [
    "vali_dir_path = \"C:/Users/AXIER/LABS/FINAL_PROYECT/IMAGES/VALIDATION_BI/\"\n",
    "train_dir_path = \"C:/Users/AXIER/LABS/FINAL_PROYECT/IMAGES/TRAINNING_BI/\""
   ]
  },
  {
   "cell_type": "code",
   "execution_count": 181,
   "id": "2e9ffe91-2660-41dc-a1df-f7642a918675",
   "metadata": {},
   "outputs": [
    {
     "name": "stdout",
     "output_type": "stream",
     "text": [
      "Found 5600 images belonging to 2 classes.\n",
      "Found 620 images belonging to 2 classes.\n"
     ]
    }
   ],
   "source": [
    "# Configuración del generador de datos para las imágenes estructuradas\n",
    "datagen = ImageDataGenerator(\n",
    "    rescale=1.0/255,\n",
    "    rotation_range=30,\n",
    "    width_shift_range=.15,\n",
    "    height_shift_range=.15,\n",
    "    horizontal_flip=True,\n",
    "    zoom_range=0.2,\n",
    ")\n",
    "\n",
    "# Loading training data\n",
    "train_ds = datagen.flow_from_directory(\n",
    "    train_dir_path, # training directory\n",
    "    seed=755,\n",
    "    target_size=image_size,\n",
    "    batch_size=batch_size,\n",
    "    class_mode='categorical'\n",
    ")\n",
    "\n",
    "# Loading validation data\n",
    "val_ds = datagen.flow_from_directory(\n",
    "    vali_dir_path, # validation directory\n",
    "    seed=755,\n",
    "    target_size=image_size,\n",
    "    batch_size=batch_size,\n",
    "    class_mode='categorical' \n",
    ")\n"
   ]
  },
  {
   "cell_type": "code",
   "execution_count": 11,
   "id": "2e227043-3ab3-46f3-b547-e933f5d00738",
   "metadata": {},
   "outputs": [],
   "source": [
    "fp = os.path.join(os.getcwd(), \"red_neuronal_1\")"
   ]
  },
  {
   "cell_type": "code",
   "execution_count": 12,
   "id": "8eb3a853-2661-4eb7-bc56-5973d83941ad",
   "metadata": {},
   "outputs": [],
   "source": [
    "model_filepath = \"C:/Users/AXIER/Desktop/IRONHACK/FINAL_PROYECT/red_neuronal_1/\""
   ]
  },
  {
   "cell_type": "code",
   "execution_count": 13,
   "id": "19fc2932-3b3e-4388-8941-4e7bbafcd03e",
   "metadata": {},
   "outputs": [],
   "source": [
    "# Keras model, build on top of TensorFlow\n",
    "model = make_model(input_shape=image_size + (3,)) # Image size + 3 channels of colors"
   ]
  },
  {
   "cell_type": "code",
   "execution_count": 14,
   "id": "0d8aa2d9-7e3e-49a2-8852-2b48535be1d1",
   "metadata": {},
   "outputs": [],
   "source": [
    "model.compile(\n",
    "    optimizer=keras.optimizers.Adamax(learning_rate=0.001),\n",
    "    loss=\"binary_crossentropy\",\n",
    "    metrics=[\"accuracy\"],\n",
    ")"
   ]
  },
  {
   "cell_type": "code",
   "execution_count": 15,
   "id": "f8b86009-7e89-4a8d-868c-3ef3104a289a",
   "metadata": {},
   "outputs": [],
   "source": [
    "checkpoints = os.path.join(fp, \"save_{epoch}.keras\")"
   ]
  },
  {
   "cell_type": "code",
   "execution_count": 16,
   "id": "ba042c4b-7242-4f5a-8566-55b5006e4969",
   "metadata": {},
   "outputs": [],
   "source": [
    "epochs = 20\n",
    "\n",
    "callbacks = [\n",
    "    ModelCheckpoint(checkpoints),  # Guardar después de cada época\n",
    "]"
   ]
  },
  {
   "cell_type": "code",
   "execution_count": 17,
   "id": "fe6abca8-14df-4672-b4d7-f10f2d82f86d",
   "metadata": {},
   "outputs": [
    {
     "name": "stdout",
     "output_type": "stream",
     "text": [
      "Epoch 1/20\n",
      "\u001b[1m44/44\u001b[0m \u001b[32m━━━━━━━━━━━━━━━━━━━━\u001b[0m\u001b[37m\u001b[0m \u001b[1m106s\u001b[0m 2s/step - accuracy: 0.5847 - loss: 0.6441 - val_accuracy: 0.7048 - val_loss: 0.5929\n",
      "Epoch 2/20\n",
      "\u001b[1m44/44\u001b[0m \u001b[32m━━━━━━━━━━━━━━━━━━━━\u001b[0m\u001b[37m\u001b[0m \u001b[1m96s\u001b[0m 2s/step - accuracy: 0.7455 - loss: 0.5109 - val_accuracy: 0.7484 - val_loss: 0.5142\n",
      "Epoch 3/20\n",
      "\u001b[1m44/44\u001b[0m \u001b[32m━━━━━━━━━━━━━━━━━━━━\u001b[0m\u001b[37m\u001b[0m \u001b[1m93s\u001b[0m 2s/step - accuracy: 0.7869 - loss: 0.4623 - val_accuracy: 0.8290 - val_loss: 0.4446\n",
      "Epoch 4/20\n",
      "\u001b[1m44/44\u001b[0m \u001b[32m━━━━━━━━━━━━━━━━━━━━\u001b[0m\u001b[37m\u001b[0m \u001b[1m94s\u001b[0m 2s/step - accuracy: 0.8044 - loss: 0.4319 - val_accuracy: 0.8161 - val_loss: 0.4220\n",
      "Epoch 5/20\n",
      "\u001b[1m44/44\u001b[0m \u001b[32m━━━━━━━━━━━━━━━━━━━━\u001b[0m\u001b[37m\u001b[0m \u001b[1m97s\u001b[0m 2s/step - accuracy: 0.8343 - loss: 0.3769 - val_accuracy: 0.8371 - val_loss: 0.3812\n",
      "Epoch 6/20\n",
      "\u001b[1m44/44\u001b[0m \u001b[32m━━━━━━━━━━━━━━━━━━━━\u001b[0m\u001b[37m\u001b[0m \u001b[1m95s\u001b[0m 2s/step - accuracy: 0.8440 - loss: 0.3630 - val_accuracy: 0.8661 - val_loss: 0.3378\n",
      "Epoch 7/20\n",
      "\u001b[1m44/44\u001b[0m \u001b[32m━━━━━━━━━━━━━━━━━━━━\u001b[0m\u001b[37m\u001b[0m \u001b[1m93s\u001b[0m 2s/step - accuracy: 0.8438 - loss: 0.3588 - val_accuracy: 0.8790 - val_loss: 0.3062\n",
      "Epoch 8/20\n",
      "\u001b[1m44/44\u001b[0m \u001b[32m━━━━━━━━━━━━━━━━━━━━\u001b[0m\u001b[37m\u001b[0m \u001b[1m93s\u001b[0m 2s/step - accuracy: 0.8551 - loss: 0.3298 - val_accuracy: 0.8387 - val_loss: 0.3735\n",
      "Epoch 9/20\n",
      "\u001b[1m44/44\u001b[0m \u001b[32m━━━━━━━━━━━━━━━━━━━━\u001b[0m\u001b[37m\u001b[0m \u001b[1m98s\u001b[0m 2s/step - accuracy: 0.8525 - loss: 0.3549 - val_accuracy: 0.8758 - val_loss: 0.3206\n",
      "Epoch 10/20\n",
      "\u001b[1m44/44\u001b[0m \u001b[32m━━━━━━━━━━━━━━━━━━━━\u001b[0m\u001b[37m\u001b[0m \u001b[1m95s\u001b[0m 2s/step - accuracy: 0.8687 - loss: 0.3154 - val_accuracy: 0.8919 - val_loss: 0.2888\n",
      "Epoch 11/20\n",
      "\u001b[1m44/44\u001b[0m \u001b[32m━━━━━━━━━━━━━━━━━━━━\u001b[0m\u001b[37m\u001b[0m \u001b[1m93s\u001b[0m 2s/step - accuracy: 0.8615 - loss: 0.3302 - val_accuracy: 0.8613 - val_loss: 0.3755\n",
      "Epoch 12/20\n",
      "\u001b[1m44/44\u001b[0m \u001b[32m━━━━━━━━━━━━━━━━━━━━\u001b[0m\u001b[37m\u001b[0m \u001b[1m93s\u001b[0m 2s/step - accuracy: 0.8405 - loss: 0.3593 - val_accuracy: 0.8887 - val_loss: 0.3007\n",
      "Epoch 13/20\n",
      "\u001b[1m44/44\u001b[0m \u001b[32m━━━━━━━━━━━━━━━━━━━━\u001b[0m\u001b[37m\u001b[0m \u001b[1m94s\u001b[0m 2s/step - accuracy: 0.8666 - loss: 0.3231 - val_accuracy: 0.8952 - val_loss: 0.2852\n",
      "Epoch 14/20\n",
      "\u001b[1m44/44\u001b[0m \u001b[32m━━━━━━━━━━━━━━━━━━━━\u001b[0m\u001b[37m\u001b[0m \u001b[1m95s\u001b[0m 2s/step - accuracy: 0.8626 - loss: 0.3088 - val_accuracy: 0.8968 - val_loss: 0.2944\n",
      "Epoch 15/20\n",
      "\u001b[1m44/44\u001b[0m \u001b[32m━━━━━━━━━━━━━━━━━━━━\u001b[0m\u001b[37m\u001b[0m \u001b[1m94s\u001b[0m 2s/step - accuracy: 0.8779 - loss: 0.2939 - val_accuracy: 0.8806 - val_loss: 0.2986\n",
      "Epoch 16/20\n",
      "\u001b[1m44/44\u001b[0m \u001b[32m━━━━━━━━━━━━━━━━━━━━\u001b[0m\u001b[37m\u001b[0m \u001b[1m94s\u001b[0m 2s/step - accuracy: 0.8779 - loss: 0.2942 - val_accuracy: 0.8710 - val_loss: 0.2855\n",
      "Epoch 17/20\n",
      "\u001b[1m44/44\u001b[0m \u001b[32m━━━━━━━━━━━━━━━━━━━━\u001b[0m\u001b[37m\u001b[0m \u001b[1m94s\u001b[0m 2s/step - accuracy: 0.8785 - loss: 0.2922 - val_accuracy: 0.8790 - val_loss: 0.3206\n",
      "Epoch 18/20\n",
      "\u001b[1m44/44\u001b[0m \u001b[32m━━━━━━━━━━━━━━━━━━━━\u001b[0m\u001b[37m\u001b[0m \u001b[1m94s\u001b[0m 2s/step - accuracy: 0.8787 - loss: 0.2965 - val_accuracy: 0.8774 - val_loss: 0.3154\n",
      "Epoch 19/20\n",
      "\u001b[1m44/44\u001b[0m \u001b[32m━━━━━━━━━━━━━━━━━━━━\u001b[0m\u001b[37m\u001b[0m \u001b[1m94s\u001b[0m 2s/step - accuracy: 0.8709 - loss: 0.2920 - val_accuracy: 0.8855 - val_loss: 0.2880\n",
      "Epoch 20/20\n",
      "\u001b[1m44/44\u001b[0m \u001b[32m━━━━━━━━━━━━━━━━━━━━\u001b[0m\u001b[37m\u001b[0m \u001b[1m94s\u001b[0m 2s/step - accuracy: 0.8828 - loss: 0.2854 - val_accuracy: 0.8468 - val_loss: 0.3773\n"
     ]
    }
   ],
   "source": [
    "hist = model.fit(\n",
    "    train_ds,\n",
    "    epochs=epochs,\n",
    "    validation_data=val_ds,\n",
    "    callbacks=callbacks,\n",
    ")"
   ]
  },
  {
   "cell_type": "code",
   "execution_count": 18,
   "id": "4af13d5a-726f-4226-9e89-590ddcd3dbaa",
   "metadata": {},
   "outputs": [
    {
     "data": {
      "image/png": "[encoded data removed]",
      "text/plain": [
       "<Figure size 640x480 with 1 Axes>"
      ]
     },
     "metadata": {},
     "output_type": "display_data"
    }
   ],
   "source": [
    "fig = plt.figure()\n",
    "plt.plot(hist.history['loss'], color='teal', label='loss')\n",
    "plt.plot(hist.history['val_loss'], color='orange', label='val_loss')\n",
    "fig.suptitle('Loss', fontsize=20)\n",
    "plt.legend(loc=\"upper left\")\n",
    "plt.show()"
   ]
  },
  {
   "cell_type": "code",
   "execution_count": 20,
   "id": "15b9ee68-f970-40c5-979c-d8a1b31b56ba",
   "metadata": {},
   "outputs": [],
   "source": [
    "matriz_no_structured_dir_path = \"C:/Users/AXIER/LABS/FINAL_PROYECT/IMAGES/TESTING_BI/no_structured\"\n",
    "matriz_structured_dir_path = \"C:/Users/AXIER/LABS/FINAL_PROYECT/IMAGES/TESTING_BI/structured\"\n",
    "matriz_confusion = \"C:/Users/AXIER/LABS/FINAL_PROYECT/IMAGES/TESTING_BI\""
   ]
  },
  {
   "cell_type": "code",
   "execution_count": null,
   "id": "796efbb1-9d4d-4262-aa89-8932a067dffc",
   "metadata": {},
   "outputs": [],
   "source": [
    "vali_dir_path = \"C:/Users/AXIER/LABS/FINAL_PROYECT/IMAGES/VALIDATION_BI/\"\n",
    "train_dir_path = \"C:/Users/AXIER/LABS/FINAL_PROYECT/IMAGES/TRAINNING_BI/\""
   ]
  },
  {
   "cell_type": "code",
   "execution_count": 159,
   "id": "e04dc69d-f463-4316-aa82-c1fbc39b50f1",
   "metadata": {},
   "outputs": [],
   "source": [
    "aaa = \"C:/Users/AXIER/LABS/FINAL_PROYECT/IMAGES/VALIDATION_BI/no_structured\"\n",
    "bbb = \"C:/Users/AXIER/LABS/FINAL_PROYECT/IMAGES/VALIDATION_BI/structured\""
   ]
  },
  {
   "cell_type": "code",
   "execution_count": 174,
   "id": "5b7e2d70-b08c-4fce-8ddb-9cde47be0379",
   "metadata": {},
   "outputs": [],
   "source": [
    "checkpoints_path = 'C:/Users/AXIER/LABS/FINAL_PROYECT/red_neuronal_1/save_16.keras'\n",
    "model.load_weights(checkpoints_path)"
   ]
  },
  {
   "cell_type": "code",
   "execution_count": 185,
   "id": "52218bfe-8461-4c45-8fd7-01b805e686f4",
   "metadata": {},
   "outputs": [
    {
     "data": {
      "text/plain": [
       "620"
      ]
     },
     "execution_count": 185,
     "metadata": {},
     "output_type": "execute_result"
    }
   ],
   "source": [
    "len(true_labels)"
   ]
  },
  {
   "cell_type": "code",
   "execution_count": 184,
   "id": "96069b97-d53d-40fa-8e2d-ddd72430b195",
   "metadata": {},
   "outputs": [
    {
     "data": {
      "text/plain": [
       "620"
      ]
     },
     "execution_count": 184,
     "metadata": {},
     "output_type": "execute_result"
    }
   ],
   "source": [
    "len(pred_labels)"
   ]
  },
  {
   "cell_type": "code",
   "execution_count": 190,
   "id": "4f10e16b-0ce7-479c-911f-7faf15185aae",
   "metadata": {},
   "outputs": [
    {
     "name": "stdout",
     "output_type": "stream",
     "text": [
      "\u001b[1m5/5\u001b[0m \u001b[32m━━━━━━━━━━━━━━━━━━━━\u001b[0m\u001b[37m\u001b[0m \u001b[1m8s\u001b[0m 2s/step\n"
     ]
    },
    {
     "data": {
      "image/png": "[encoded data removed]",
      "text/plain": [
       "<Figure size 500x500 with 2 Axes>"
      ]
     },
     "metadata": {},
     "output_type": "display_data"
    },
    {
     "name": "stdout",
     "output_type": "stream",
     "text": [
      "               precision    recall  f1-score     support\n",
      "no_structured   0.490132  0.480645  0.485342  310.000000\n",
      "structured      0.490506  0.500000  0.495208  310.000000\n",
      "accuracy        0.490323  0.490323  0.490323    0.490323\n",
      "macro avg       0.490319  0.490323  0.490275  620.000000\n",
      "weighted avg    0.490319  0.490323  0.490275  620.000000\n"
     ]
    }
   ],
   "source": [
    "# true labels\n",
    "true_labels = val_ds.classes\n",
    "\n",
    "# predictions\n",
    "predictions = model.predict(val_ds)\n",
    "pred_labels = (predictions > 0.5).astype('int32')\n",
    "\n",
    "# compute the confusion matrix\n",
    "cm = confusion_matrix(true_labels, pred_labels)\n",
    "\n",
    "# class names\n",
    "class_names = list(val_ds.class_indices.keys())\n",
    "\n",
    "# plot the confusion matrix\n",
    "fig, ax = plt.subplots(figsize=(5, 5))  # Increase the size of the figure\n",
    "disp = ConfusionMatrixDisplay(confusion_matrix=cm, display_labels=class_names)\n",
    "disp.plot(ax=ax, cmap='Blues', xticks_rotation='vertical')\n",
    "plt.show()\n",
    "\n",
    "sns.set(font_scale=1.5)\n",
    "report = classification_report(true_labels, pred_labels, target_names=class_names, output_dict=True)\n",
    "df_report = pd.DataFrame(report).transpose()\n",
    "\n",
    "# report as a dataframe\n",
    "print(df_report)"
   ]
  },
  {
   "cell_type": "code",
   "execution_count": null,
   "id": "25feb75f-3e65-4b55-9d88-c52809d0e7b8",
   "metadata": {},
   "outputs": [],
   "source": []
  },
  {
   "cell_type": "code",
   "execution_count": null,
   "id": "2b33985b-f871-43a5-aa43-b7e9e6ce3544",
   "metadata": {},
   "outputs": [],
   "source": []
  },
  {
   "cell_type": "code",
   "execution_count": null,
   "id": "352c36e6-0ac4-47c7-a39f-ff5139dceab6",
   "metadata": {},
   "outputs": [],
   "source": []
  },
  {
   "cell_type": "code",
   "execution_count": null,
   "id": "a306ef5f-b7ca-466a-8603-9898041eca60",
   "metadata": {},
   "outputs": [],
   "source": []
  },
  {
   "cell_type": "code",
   "execution_count": null,
   "id": "55eaf900-5578-4777-b17f-67d4aedf2d48",
   "metadata": {},
   "outputs": [],
   "source": []
  },
  {
   "cell_type": "code",
   "execution_count": null,
   "id": "b1dbcfb7-54ae-4d15-8ec6-d597cd261444",
   "metadata": {},
   "outputs": [],
   "source": []
  },
  {
   "cell_type": "code",
   "execution_count": null,
   "id": "3848ce4d-22a3-457b-8f75-e0c126edd27e",
   "metadata": {},
   "outputs": [],
   "source": []
  },
  {
   "cell_type": "code",
   "execution_count": null,
   "id": "182ad148-2d42-4691-9f42-7589b0c31062",
   "metadata": {},
   "outputs": [],
   "source": []
  }
 ],
 "metadata": {
  "kernelspec": {
   "display_name": "Python 3 (ipykernel)",
   "language": "python",
   "name": "python3"
  },
  "language_info": {
   "codemirror_mode": {
    "name": "ipython",
    "version": 3
   },
   "file_extension": ".py",
   "mimetype": "text/x-python",
   "name": "python",
   "nbconvert_exporter": "python",
   "pygments_lexer": "ipython3",
   "version": "3.11.5"
  }
 },
 "nbformat": 4,
 "nbformat_minor": 5
}
