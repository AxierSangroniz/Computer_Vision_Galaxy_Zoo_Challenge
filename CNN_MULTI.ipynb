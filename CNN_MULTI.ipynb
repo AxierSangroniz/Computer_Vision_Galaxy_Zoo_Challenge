{
 "cells": [
  {
   "cell_type": "code",
   "execution_count": 1,
   "id": "fb1857f2-8390-4237-8eea-9062282fba8f",
   "metadata": {},
   "outputs": [],
   "source": [
    "import pandas as pd                                       # 😀 Importa la biblioteca pandas y la renombra como pd para su uso en el código.\n",
    "import matplotlib.pyplot as plt                           # 📊 Importa la biblioteca matplotlib.pyplot y la renombra como plt para su uso en el código.\n",
    "import numpy as np                                        # 🔢 Importa la biblioteca numpy y la renombra como np para su uso en el código.\n",
    "from keras.callbacks import ModelCheckpoint               # 💾 Importa la clase ModelCheckpoint desde keras.callbacks para guardar el modelo durante el entrenamiento.\n",
    "from keras.callbacks import Callback                      # 🔄 Importa la clase Callback desde keras.callbacks para personalizar el comportamiento durante el entrenamiento.\n",
    "import warnings                                           # ⚠️ Importa la biblioteca warnings para manejar advertencias.\n",
    "from sklearn import preprocessing                         # 🛠️ Importa el módulo preprocessing de la biblioteca sklearn para realizar preprocesamiento de datos.\n",
    "from sklearn.ensemble import RandomForestClassifier       # 🌳 Importa la clase RandomForestClassifier desde el módulo ensemble de la biblioteca sklearn para utilizar en el modelo.\n",
    "from sklearn.model_selection import GridSearchCV          # 📊 Importa la clase GridSearchCV desde el módulo model_selection de la biblioteca sklearn para realizar búsqueda de hiperparámetros.\n",
    "import os                                                 # 📁 Importa el módulo os para interactuar con el sistema operativo, como acceder a archivos y directorios.\n",
    "from tensorflow import keras                              # 🧠 Importa el módulo keras de la biblioteca tensorflow para construir modelos de redes neuronales.\n",
    "from tensorflow.keras import layers                       # 🧠 Importa el módulo layers desde keras de la biblioteca tensorflow para construir capas de red neuronal.\n",
    "import shutil                                             # 📂 Importa la biblioteca shutil para realizar operaciones de manejo de archivos y directorios.\n",
    "from tensorflow.keras.preprocessing.image import ImageDataGenerator, load_img, img_to_array  # 🖼️ Importa las clases ImageDataGenerator, load_img, y img_to_array desde preprocessing.image de la biblioteca tensorflow.keras para preprocesamiento de imágenes.\n",
    "from sklearn.utils import resample                        # 📊 Importa la función resample desde la biblioteca sklearn.utils para realizar remuestreo de datos.\n",
    "import random                                             # 🎲 Importa la biblioteca random para generar números aleatorios.\n",
    "import tensorflow as tf"
   ]
  },
  {
   "cell_type": "code",
   "execution_count": 2,
   "id": "30a4aa1c-3e72-4527-b7a1-4cb3cb153964",
   "metadata": {},
   "outputs": [],
   "source": [
    "warnings.filterwarnings(\"ignore\")\n",
    "%matplotlib inline\n",
    "pd.set_option('display.max_columns', None)"
   ]
  },
  {
   "cell_type": "code",
   "execution_count": 3,
   "id": "1d77f380-b6ab-4573-8b4b-5431cbd40899",
   "metadata": {},
   "outputs": [],
   "source": [
    "train_dir_path = \"C:/Users/axier/LABS/FINAL_PROYECT/IMAGES/TRAINNING_MULTI\"\n",
    "vali_dir_path = \"C:/Users/axier/LABS/FINAL_PROYECT/IMAGES/VALIDATION_MULTI\""
   ]
  },
  {
   "cell_type": "code",
   "execution_count": 4,
   "id": "95898627-c564-4c6d-bf3e-3b941bd57540",
   "metadata": {},
   "outputs": [],
   "source": [
    "img_height = 256   \n",
    "img_width = 256   \n",
    "image_size = (img_height, img_width)\n",
    "batch_size = 128 # using the same as in the tutorial, training utilized in each iteration"
   ]
  },
  {
   "cell_type": "code",
   "execution_count": 5,
   "id": "5abea084-e644-483c-afd8-aeba6885ddb3",
   "metadata": {},
   "outputs": [],
   "source": [
    "def make_model(input_shape): \n",
    "    inputs = keras.Input(shape=input_shape)\n",
    "\n",
    "    x = layers.Conv2D(16, (7, 7), activation='relu')(inputs)\n",
    "    x = layers.MaxPooling2D((6, 6))(x)\n",
    "\n",
    "    x = layers.Conv2D(32, (6, 6), activation='relu')(X)\n",
    "    x = layers.MaxPooling2D((5, 5))(x)\n",
    "\n",
    "    x = layers.Conv2D(64, (5, 5), activation='relu')(x)\n",
    "    x = layers.MaxPooling2D((4, 4))(x)\n",
    "\n",
    "    x = layers.Conv2D(128, (4, 4), activation='relu')(x)\n",
    "    x = layers.MaxPooling2D((3, 3))(x)\n",
    "\n",
    "    x = layers.Conv2D(192, (3, 3), activation='relu')(x)\n",
    "    x = layers.MaxPooling2D((2, 2))(x)\n",
    "\n",
    "    x = layers.Conv2D(256, (2, 2), activation='relu')(x)\n",
    "    x = layers.MaxPooling2D((2, 2))(x)\n",
    "\n",
    "    x = layers.Flatten()(x)\n",
    "    x = layers.Dense(512, activation='relu')(x)\n",
    "    x = layers.Dense(256, activation='relu')(x)\n",
    "    x = layers.Dense(1, activation='softmax')(x)\n",
    "\n",
    "    return keras.Model(inputs, x)"
   ]
  },
  {
   "cell_type": "code",
   "execution_count": 6,
   "id": "b1a93d26-9aba-43ba-aeac-d2fd0d0e0519",
   "metadata": {},
   "outputs": [],
   "source": [
    "datagen = ImageDataGenerator(\n",
    "    rescale=1.0/255,\n",
    "    rotation_range=30,\n",
    "    width_shift_range=.15,\n",
    "    height_shift_range=.15,\n",
    "    horizontal_flip=True,\n",
    "    zoom_range=0.2)"
   ]
  },
  {
   "cell_type": "code",
   "execution_count": 7,
   "id": "b43896ef-58ef-47e9-a0b3-99878c459a2a",
   "metadata": {
    "scrolled": true
   },
   "outputs": [
    {
     "name": "stdout",
     "output_type": "stream",
     "text": [
      "Found 23499 files belonging to 13 classes.\n",
      "Using 21150 files for training.\n",
      "Found 23499 files belonging to 13 classes.\n",
      "Using 2349 files for validation.\n"
     ]
    }
   ],
   "source": [
    "train_ds = tf.keras.utils.image_dataset_from_directory(\n",
    "    train_dir_path, # training directory\n",
    "    validation_split=0.1,\n",
    "    subset=\"training\",\n",
    "    seed=1337,\n",
    "    image_size=(img_height, img_width),\n",
    "    batch_size=batch_size)\n",
    "val_ds = tf.keras.utils.image_dataset_from_directory(\n",
    "    train_dir_path,\n",
    "    validation_split=0.1,\n",
    "    subset=\"validation\",\n",
    "    seed=1337,\n",
    "    image_size=(img_height, img_width),\n",
    "    batch_size=batch_size)"
   ]
  },
  {
   "cell_type": "code",
   "execution_count": 8,
   "id": "9d56b0c9-abc9-4df2-ae1c-54f1bb9b8472",
   "metadata": {},
   "outputs": [],
   "source": [
    "model = make_model(input_shape=image_size + (3,)) # Image size + 3 channels of colors"
   ]
  },
  {
   "cell_type": "code",
   "execution_count": 9,
   "id": "f618304b-4cd8-4e78-9fff-2891cebd3d19",
   "metadata": {},
   "outputs": [],
   "source": [
    "model.compile(\n",
    "    optimizer=keras.optimizers.Nadam(learning_rate=0.002),\n",
    "    loss=\"categorical_crossentropy\",\n",
    "    metrics=[\"accuracy\"],\n",
    ")"
   ]
  },
  {
   "cell_type": "code",
   "execution_count": null,
   "id": "fb4e9e01-e33a-4d68-93d1-bb1b04f0844a",
   "metadata": {},
   "outputs": [],
   "source": [
    "fp = \"C:/Users/axier/LABS/FINAL_PROYECT/red_neuronal\""
   ]
  },
  {
   "cell_type": "code",
   "execution_count": null,
   "id": "5e8eb381-b935-45d9-aeed-90f183b235eb",
   "metadata": {},
   "outputs": [],
   "source": [
    "checkpoints = os.path.join(fp, \"save_{epoch}.keras\")"
   ]
  },
  {
   "cell_type": "code",
   "execution_count": 11,
   "id": "7eb13585-83f3-47c7-a4af-fe4df675b997",
   "metadata": {},
   "outputs": [
    {
     "name": "stdout",
     "output_type": "stream",
     "text": [
      "Epoch 1/30\n",
      "\u001b[1m166/166\u001b[0m \u001b[32m━━━━━━━━━━━━━━━━━━━━\u001b[0m\u001b[37m\u001b[0m \u001b[1m1450s\u001b[0m 9s/step - accuracy: 0.0707 - loss: 0.0000e+00 - val_accuracy: 0.0651 - val_loss: 0.0000e+00\n",
      "Epoch 2/30\n",
      "\u001b[1m  9/166\u001b[0m \u001b[32m━\u001b[0m\u001b[37m━━━━━━━━━━━━━━━━━━━\u001b[0m \u001b[1m23:07\u001b[0m 9s/step - accuracy: 0.0529 - loss: 0.0000e+00"
     ]
    },
    {
     "name": "stderr",
     "output_type": "stream",
     "text": [
      "\n",
      "KeyboardInterrupt\n",
      "\n"
     ]
    }
   ],
   "source": [
    "epochs=30\n",
    "\n",
    "\n",
    "\n",
    "history = model.fit(\n",
    "  train_ds,\n",
    "  validation_data=val_ds,\n",
    "  epochs=epochs\n",
    ")"
   ]
  },
  {
   "cell_type": "code",
   "execution_count": null,
   "id": "462be6f5-a24a-4aeb-b7f2-2d17bd0b58b5",
   "metadata": {},
   "outputs": [],
   "source": []
  },
  {
   "cell_type": "code",
   "execution_count": null,
   "id": "f0ee1239-3196-411c-9ca2-ba59f4d2f53f",
   "metadata": {},
   "outputs": [],
   "source": []
  },
  {
   "cell_type": "code",
   "execution_count": null,
   "id": "c5b21fe2-2ea6-4ea1-b1d4-368cc43b803c",
   "metadata": {},
   "outputs": [],
   "source": []
  }
 ],
 "metadata": {
  "kernelspec": {
   "display_name": "Python 3 (ipykernel)",
   "language": "python",
   "name": "python3"
  },
  "language_info": {
   "codemirror_mode": {
    "name": "ipython",
    "version": 3
   },
   "file_extension": ".py",
   "mimetype": "text/x-python",
   "name": "python",
   "nbconvert_exporter": "python",
   "pygments_lexer": "ipython3",
   "version": "3.11.5"
  }
 },
 "nbformat": 4,
 "nbformat_minor": 5
}
